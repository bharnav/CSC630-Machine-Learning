{
 "cells": [
  {
   "cell_type": "markdown",
   "id": "91cba1f5",
   "metadata": {},
   "source": [
    "# Image Classification\n",
    "\n",
    "In this notebook I investigate how using machine learning models of different complexities can result in different outcomes when dealing sensitive data such as images of people's faces from different races and ethnicities. I do so by comparing how I very simple 3 layer convolutional neural network compares in accuracy to a more robuset VGG16-based model."
   ]
  },
  {
   "cell_type": "code",
   "execution_count": 35,
   "id": "559ffcfb",
   "metadata": {},
   "outputs": [
    {
     "name": "stdout",
     "output_type": "stream",
     "text": [
      "Collecting pydot\n",
      "  Downloading pydot-1.4.2-py2.py3-none-any.whl (21 kB)\n",
      "Requirement already satisfied: pyparsing>=2.1.4 in /Library/Frameworks/Python.framework/Versions/3.8/lib/python3.8/site-packages (from pydot) (2.4.7)\n",
      "Installing collected packages: pydot\n",
      "Successfully installed pydot-1.4.2\n"
     ]
    }
   ],
   "source": [
    "!pip3 install pydot"
   ]
  },
  {
   "cell_type": "markdown",
   "id": "a61e3c98",
   "metadata": {},
   "source": [
    "Importing the necessary libraries. For the most part, I use Tensorflow and Keras to build my computer vision model, cv2 for image preprocessing, and numpy and pandas for computation and data management and visualization."
   ]
  },
  {
   "cell_type": "code",
   "execution_count": 44,
   "id": "7aca3414",
   "metadata": {},
   "outputs": [],
   "source": [
    "import matplotlib.pyplot as plt\n",
    "import numpy as np\n",
    "import os\n",
    "import PIL\n",
    "import tensorflow as tf\n",
    "from tensorflow import keras\n",
    "from tensorflow.keras import layers\n",
    "from tensorflow.keras.models import Sequential\n",
    "from tensorflow.keras.layers import BatchNormalization, LeakyReLU\n",
    "from tensorflow.keras.initializers import RandomNormal, Constant\n",
    "from tensorflow.keras.utils import plot_model\n",
    "import cv2\n",
    "import os\n",
    "import numpy as np\n",
    "import pandas as pd\n",
    "from sklearn.model_selection import train_test_split\n",
    "import pickle"
   ]
  },
  {
   "cell_type": "markdown",
   "id": "e516a66e",
   "metadata": {},
   "source": [
    "I set the necessary dimensions for which I want to resize and standardize all of my pixel data to."
   ]
  },
  {
   "cell_type": "code",
   "execution_count": 2,
   "id": "f1ef8988",
   "metadata": {},
   "outputs": [],
   "source": [
    "img_height = 300\n",
    "img_width = 300"
   ]
  },
  {
   "cell_type": "markdown",
   "id": "52e751a4",
   "metadata": {},
   "source": [
    "We begin by fetching our data from the appropriate directory. The data we is taken from the FaceARG database, and in formatting the names of the files, the were named as such: age_gender_race.jpg. Hence, in order to create our dataset, I first go through our directory and read the file names using the `os.listdir()` method. Next, if the file name has a `.jpg` ending, I split the name and attribute the race of the individual to a list called `race_set`, and assign the pixel data of the individual to another list `face_img_pixels_set` at the corresponding index as the associated label. However, before I do this, I use `cv2.imread()` to convert the image to pixel data, and use the `cv2.resize()` method to resize all of our images to be 300 by 300."
   ]
  },
  {
   "cell_type": "code",
   "execution_count": 3,
   "id": "c4b2eef7",
   "metadata": {},
   "outputs": [],
   "source": [
    "age_set = []\n",
    "gender_set = []\n",
    "race_set = []\n",
    "face_img_pixels_set = []\n",
    "path = \"./FaceRecognitionDataset\"\n",
    "dir_list = os.listdir(path)\n",
    "\n",
    "for img_dir in dir_list:\n",
    "    try:\n",
    "        img_path = \"./FaceRecognitionDataset\"\n",
    "        img_path += \"/\" + img_dir\n",
    "        face_img_dir = os.listdir(img_path)\n",
    "        for face_img in face_img_dir:\n",
    "            if \".jpg\" in face_img:\n",
    "                face_img_split = face_img.split(\"_\")\n",
    "                age_set_str_int = face_img_split[0]\n",
    "                age_set_str_int = int(age_set_str_int)\n",
    "                age_set.append(age_set_str_int)\n",
    "                gender_set_str_int = face_img_split[1]\n",
    "                gender_set_str_int = int(gender_set_str_int)\n",
    "                gender_set.append(gender_set_str_int)\n",
    "                race_set_str_int = face_img_split[2]\n",
    "                race_set_str_int = int(race_set_str_int)\n",
    "                race_set.append(race_set_str_int)\n",
    "                face_img_path = img_path + \"/\" + face_img\n",
    "                face_img_pixels = cv2.imread(face_img_path)\n",
    "                dim = (img_height, img_width)\n",
    "                img_resize = cv2.resize(face_img_pixels, dim)\n",
    "                cv2.imwrite(face_img_path, img_resize) \n",
    "                face_img_pixels_resized = cv2.imread(face_img_path)\n",
    "                face_img_pixels_set.append(face_img_pixels_resized)     \n",
    "    except:\n",
    "        pass"
   ]
  },
  {
   "cell_type": "markdown",
   "id": "345744c4",
   "metadata": {},
   "source": [
    "In order to pass our `face_img_pixels_set` into our Tensorflow model, we need to use `np.stack()` to essentially flatten our array. Interestingly though, this is the first time I've encountered this issue, however, thank you to Michael Huang, I was able to learn that unless I flatten my data as so, I won't be able to convert it to tensors later on."
   ]
  },
  {
   "cell_type": "code",
   "execution_count": 4,
   "id": "4dc6c61a",
   "metadata": {},
   "outputs": [],
   "source": [
    "len(face_img_pixels_set)\n",
    "face_img_pixels_set = np.stack(face_img_pixels_set)"
   ]
  },
  {
   "cell_type": "code",
   "execution_count": 5,
   "id": "a762ebf4",
   "metadata": {},
   "outputs": [
    {
     "name": "stdout",
     "output_type": "stream",
     "text": [
      "(28663, 300, 300, 3)\n"
     ]
    }
   ],
   "source": [
    "print(face_img_pixels_set.shape)"
   ]
  },
  {
   "cell_type": "code",
   "execution_count": 6,
   "id": "00f4a68f",
   "metadata": {},
   "outputs": [],
   "source": [
    "race_set = np.array(race_set)"
   ]
  },
  {
   "cell_type": "markdown",
   "id": "1e165384",
   "metadata": {},
   "source": [
    "The first layer of my model is a data augmentation model, due to the fact that currently we have a relatively small training set (roughly 17k images). However, with a data augmentation layer, we can generate more data off of our existing training set, by randomly rotating and cropping the photos, as to our computer vision model, a change in even one pixel results in a completely different image."
   ]
  },
  {
   "cell_type": "code",
   "execution_count": 7,
   "id": "b0e52f5b",
   "metadata": {},
   "outputs": [
    {
     "name": "stderr",
     "output_type": "stream",
     "text": [
      "2021-11-05 18:44:45.840595: I tensorflow/core/platform/cpu_feature_guard.cc:142] This TensorFlow binary is optimized with oneAPI Deep Neural Network Library (oneDNN) to use the following CPU instructions in performance-critical operations:  AVX2 FMA\n",
      "To enable them in other operations, rebuild TensorFlow with the appropriate compiler flags.\n"
     ]
    }
   ],
   "source": [
    "data_augmentation = keras.Sequential(\n",
    "  [\n",
    "    layers.RandomFlip(\"horizontal\",\n",
    "                      input_shape=(img_height,\n",
    "                                  img_width,\n",
    "                                  3)),\n",
    "    layers.RandomRotation(0.1),\n",
    "    layers.RandomZoom(0.1),\n",
    "  ]\n",
    ")"
   ]
  },
  {
   "cell_type": "markdown",
   "id": "8cf2bcb5",
   "metadata": {},
   "source": [
    "In order to train our model, we split our dataset into training, testing, and validation sets using the `train_test_split` method. We set our test size to 20%, train size to 60%, and validation size to 20%. The training set is used to build our model, the testing set is used to evaluate or model, and the validation set is used to evaluate our model while it is training, and appropriately fine tune it."
   ]
  },
  {
   "cell_type": "code",
   "execution_count": 9,
   "id": "32027c5f",
   "metadata": {},
   "outputs": [],
   "source": [
    "pixel_data_train, pixel_data_test, race_data_train, race_data_test = train_test_split(face_img_pixels_set, race_set, \n",
    "                                                                                        test_size = 0.2, random_state=123)\n",
    "pixel_data_train, pixel_data_val, race_data_train, race_data_val = train_test_split(pixel_data_train, race_data_train,\n",
    "                                                                                     test_size = 0.25,  random_state=123)"
   ]
  },
  {
   "cell_type": "markdown",
   "id": "5b672e40",
   "metadata": {},
   "source": [
    "In my model, I also use a rescaling layer, such that the model can appropriately handle the data."
   ]
  },
  {
   "cell_type": "code",
   "execution_count": 10,
   "id": "c641e5d3",
   "metadata": {},
   "outputs": [],
   "source": [
    "normalization_layer = layers.Rescaling(1./255)"
   ]
  },
  {
   "cell_type": "markdown",
   "id": "7549b440",
   "metadata": {},
   "source": [
    "The model that I choose to use for this classification model is heavily based on the VGG16 model. However, I opt to add more to the model's top layer, in an effort to enhance its classification abilities, by adding a sequence of 3 deep layers, with dropout layers in between, prior to beginning our sequence of convolutional layers. Outside of this though, our model follows essentially the same architecture as the classic VGG16 model, having 2 convolutional layers of depth 64, followed by pooling, 2 convolutional layers of depth 128, followed by pooling, 4 convolutional layers of depth 256, followed by pooling, 4 convolutional layers of depth 512, followed by pooling, 4 convolutional layers of depth 512, followed by pooling, and finally a layer to flatten our output and 3 dense layers. In between all of our convolutional layers, we also include batch normalization to normalize the layers' inputs by re-centering and re-scaling them."
   ]
  },
  {
   "cell_type": "code",
   "execution_count": 60,
   "id": "1d2d1e37",
   "metadata": {},
   "outputs": [],
   "source": [
    "num_classes = 5\n",
    "\n",
    "model = Sequential([\n",
    "  data_augmentation,\n",
    "  layers.Rescaling(1./255),\n",
    "  layers.Dense(12, activation='relu'),\n",
    "  layers.Dropout(0.2),\n",
    "  layers.Dense(8, activation='relu'),\n",
    "  layers.Dropout(0.2),\n",
    "  layers.Dense(1, activation='sigmoid'),\n",
    "  layers.Conv2D(64, (3,3), padding='same', activation='relu'),\n",
    "  layers.BatchNormalization(),\n",
    "  layers.Conv2D(64, (3,3), padding='same', activation='relu'),\n",
    "  layers.MaxPooling2D(pool_size=(2, 2), strides=(2,2)),\n",
    "  layers.BatchNormalization(),\n",
    "  layers.Conv2D(128, (3,3), padding='same', activation='relu'),\n",
    "  layers.BatchNormalization(),\n",
    "  layers.Conv2D(128, (3,3), padding='same', activation='relu'),\n",
    "  layers.MaxPooling2D(pool_size=(2, 2), strides=(2,2)),\n",
    "  layers.BatchNormalization(),\n",
    "  layers.Conv2D(256, (3,3), padding='same', activation='relu'),\n",
    "  layers.BatchNormalization(),\n",
    "  layers.Conv2D(256, (3,3), padding='same', activation='relu'),\n",
    "  layers.BatchNormalization(),\n",
    "  layers.Conv2D(256, (3,3), padding='same', activation='relu'),\n",
    "  layers.BatchNormalization(),\n",
    "  layers.Conv2D(256, (3,3), padding='same', activation='relu'),\n",
    "  layers.MaxPooling2D(pool_size=(2, 2), strides=(2,2)),\n",
    "  layers.BatchNormalization(),\n",
    "  layers.Conv2D(512, (3,3), padding='same', activation='relu'),\n",
    "  layers.BatchNormalization(),\n",
    "  layers.Conv2D(512, (3,3), padding='same', activation='relu'),\n",
    "  layers.BatchNormalization(),\n",
    "  layers.Conv2D(512, (3,3), padding='same', activation='relu'),\n",
    "  layers.BatchNormalization(),\n",
    "  layers.Conv2D(512, (3,3), padding='same', activation='relu'),\n",
    "  layers.MaxPooling2D(pool_size=(2, 2), strides=(2,2)),\n",
    "  layers.BatchNormalization(),\n",
    "  layers.Conv2D(512, (3,3), padding='same', activation='relu'),\n",
    "  layers.BatchNormalization(),\n",
    "  layers.Conv2D(512, (3,3), padding='same', activation='relu'),\n",
    "  layers.BatchNormalization(),\n",
    "  layers.Conv2D(512, (3,3), padding='same', activation='relu'),\n",
    "  layers.BatchNormalization(),\n",
    "  layers.Conv2D(512, (3,3), padding='same', activation='relu'),\n",
    "  layers.MaxPooling2D(pool_size=(2, 2), strides=(2,2)),\n",
    "  layers.BatchNormalization(\n",
    "        momentum=0.95, \n",
    "        epsilon=0.005,\n",
    "        beta_initializer=RandomNormal(mean=0.0, stddev=0.05), \n",
    "        gamma_initializer=Constant(value=0.9)\n",
    "  ),\n",
    "  layers.Flatten(),\n",
    "  layers.Dense(4096, activation='relu'),\n",
    "  layers.Dropout(0.2),\n",
    "  layers.Dense(4096, activation='relu'),\n",
    "  layers.Dropout(0.2),\n",
    "  layers.Dense(num_classes, activation='softmax')\n",
    "])"
   ]
  },
  {
   "cell_type": "markdown",
   "id": "cf50119a",
   "metadata": {},
   "source": [
    "We then compile our model. I do so with a learning rate of 0.001, such that our model is given sufficient time to learn the features of the dataset, use Sparse Categorical Cross Entropy as the loss function, a classic in classification tasks, and define our metric for training, which I choose as being accuracy, mse, mae, and mape."
   ]
  },
  {
   "cell_type": "code",
   "execution_count": 61,
   "id": "12ca63b1",
   "metadata": {},
   "outputs": [],
   "source": [
    "learning_rate = 0.001\n",
    "model.compile(optimizer=tf.keras.optimizers.Adam(learning_rate),\n",
    "              loss=tf.keras.losses.SparseCategoricalCrossentropy(from_logits=True),\n",
    "              metrics=['accuracy', 'mse', 'mae', 'mape'])"
   ]
  },
  {
   "cell_type": "code",
   "execution_count": 62,
   "id": "30f24167",
   "metadata": {},
   "outputs": [
    {
     "name": "stdout",
     "output_type": "stream",
     "text": [
      "Model: \"sequential_7\"\n",
      "_________________________________________________________________\n",
      "Layer (type)                 Output Shape              Param #   \n",
      "=================================================================\n",
      "sequential (Sequential)      (None, 300, 300, 3)       0         \n",
      "_________________________________________________________________\n",
      "rescaling_12 (Rescaling)     (None, 300, 300, 3)       0         \n",
      "_________________________________________________________________\n",
      "dense_17 (Dense)             (None, 300, 300, 12)      48        \n",
      "_________________________________________________________________\n",
      "dropout_11 (Dropout)         (None, 300, 300, 12)      0         \n",
      "_________________________________________________________________\n",
      "dense_18 (Dense)             (None, 300, 300, 8)       104       \n",
      "_________________________________________________________________\n",
      "dropout_12 (Dropout)         (None, 300, 300, 8)       0         \n",
      "_________________________________________________________________\n",
      "dense_19 (Dense)             (None, 300, 300, 1)       9         \n",
      "_________________________________________________________________\n",
      "conv2d_41 (Conv2D)           (None, 300, 300, 64)      640       \n",
      "_________________________________________________________________\n",
      "batch_normalization_44 (Batc (None, 300, 300, 64)      256       \n",
      "_________________________________________________________________\n",
      "conv2d_42 (Conv2D)           (None, 300, 300, 64)      36928     \n",
      "_________________________________________________________________\n",
      "max_pooling2d_41 (MaxPooling (None, 150, 150, 64)      0         \n",
      "_________________________________________________________________\n",
      "batch_normalization_45 (Batc (None, 150, 150, 64)      256       \n",
      "_________________________________________________________________\n",
      "conv2d_43 (Conv2D)           (None, 150, 150, 128)     73856     \n",
      "_________________________________________________________________\n",
      "batch_normalization_46 (Batc (None, 150, 150, 128)     512       \n",
      "_________________________________________________________________\n",
      "conv2d_44 (Conv2D)           (None, 150, 150, 128)     147584    \n",
      "_________________________________________________________________\n",
      "max_pooling2d_42 (MaxPooling (None, 75, 75, 128)       0         \n",
      "_________________________________________________________________\n",
      "batch_normalization_47 (Batc (None, 75, 75, 128)       512       \n",
      "_________________________________________________________________\n",
      "conv2d_45 (Conv2D)           (None, 75, 75, 256)       295168    \n",
      "_________________________________________________________________\n",
      "batch_normalization_48 (Batc (None, 75, 75, 256)       1024      \n",
      "_________________________________________________________________\n",
      "conv2d_46 (Conv2D)           (None, 75, 75, 256)       590080    \n",
      "_________________________________________________________________\n",
      "batch_normalization_49 (Batc (None, 75, 75, 256)       1024      \n",
      "_________________________________________________________________\n",
      "conv2d_47 (Conv2D)           (None, 75, 75, 256)       590080    \n",
      "_________________________________________________________________\n",
      "batch_normalization_50 (Batc (None, 75, 75, 256)       1024      \n",
      "_________________________________________________________________\n",
      "conv2d_48 (Conv2D)           (None, 75, 75, 256)       590080    \n",
      "_________________________________________________________________\n",
      "max_pooling2d_43 (MaxPooling (None, 37, 37, 256)       0         \n",
      "_________________________________________________________________\n",
      "batch_normalization_51 (Batc (None, 37, 37, 256)       1024      \n",
      "_________________________________________________________________\n",
      "conv2d_49 (Conv2D)           (None, 37, 37, 512)       1180160   \n",
      "_________________________________________________________________\n",
      "batch_normalization_52 (Batc (None, 37, 37, 512)       2048      \n",
      "_________________________________________________________________\n",
      "conv2d_50 (Conv2D)           (None, 37, 37, 512)       2359808   \n",
      "_________________________________________________________________\n",
      "batch_normalization_53 (Batc (None, 37, 37, 512)       2048      \n",
      "_________________________________________________________________\n",
      "conv2d_51 (Conv2D)           (None, 37, 37, 512)       2359808   \n",
      "_________________________________________________________________\n",
      "batch_normalization_54 (Batc (None, 37, 37, 512)       2048      \n",
      "_________________________________________________________________\n",
      "conv2d_52 (Conv2D)           (None, 37, 37, 512)       2359808   \n",
      "_________________________________________________________________\n",
      "max_pooling2d_44 (MaxPooling (None, 18, 18, 512)       0         \n",
      "_________________________________________________________________\n",
      "batch_normalization_55 (Batc (None, 18, 18, 512)       2048      \n",
      "_________________________________________________________________\n",
      "conv2d_53 (Conv2D)           (None, 18, 18, 512)       2359808   \n",
      "_________________________________________________________________\n",
      "batch_normalization_56 (Batc (None, 18, 18, 512)       2048      \n",
      "_________________________________________________________________\n",
      "conv2d_54 (Conv2D)           (None, 18, 18, 512)       2359808   \n",
      "_________________________________________________________________\n",
      "batch_normalization_57 (Batc (None, 18, 18, 512)       2048      \n",
      "_________________________________________________________________\n",
      "conv2d_55 (Conv2D)           (None, 18, 18, 512)       2359808   \n",
      "_________________________________________________________________\n",
      "batch_normalization_58 (Batc (None, 18, 18, 512)       2048      \n",
      "_________________________________________________________________\n",
      "conv2d_56 (Conv2D)           (None, 18, 18, 512)       2359808   \n",
      "_________________________________________________________________\n",
      "max_pooling2d_45 (MaxPooling (None, 9, 9, 512)         0         \n",
      "_________________________________________________________________\n",
      "batch_normalization_59 (Batc (None, 9, 9, 512)         2048      \n",
      "_________________________________________________________________\n",
      "flatten_11 (Flatten)         (None, 41472)             0         \n",
      "_________________________________________________________________\n",
      "dense_20 (Dense)             (None, 4096)              169873408 \n",
      "_________________________________________________________________\n",
      "dropout_13 (Dropout)         (None, 4096)              0         \n",
      "_________________________________________________________________\n",
      "dense_21 (Dense)             (None, 4096)              16781312  \n",
      "_________________________________________________________________\n",
      "dropout_14 (Dropout)         (None, 4096)              0         \n",
      "_________________________________________________________________\n",
      "dense_22 (Dense)             (None, 5)                 20485     \n",
      "=================================================================\n",
      "Total params: 206,720,614\n",
      "Trainable params: 206,709,606\n",
      "Non-trainable params: 11,008\n",
      "_________________________________________________________________\n"
     ]
    }
   ],
   "source": [
    "model.summary()"
   ]
  },
  {
   "cell_type": "code",
   "execution_count": 49,
   "id": "886e707f",
   "metadata": {},
   "outputs": [
    {
     "name": "stdout",
     "output_type": "stream",
     "text": [
      "('You must install pydot (`pip install pydot`) and install graphviz (see instructions at https://graphviz.gitlab.io/download/) ', 'for plot_model/model_to_dot to work.')\n"
     ]
    }
   ],
   "source": [
    "plot_model(model)"
   ]
  },
  {
   "cell_type": "markdown",
   "id": "cfe5bc48",
   "metadata": {},
   "source": [
    "In training our model, we first need to convert our pixel data and race data to tensors, so that our Tensorflow model can actually process the data. We do this using the `tf.convert_to_tensor` method. In doing so, our data is then ready to be trained, I set the batch size to 256 due to how large the dataset we are using is, and train the model on only 5 epochs, mainly due to my limited computation power."
   ]
  },
  {
   "cell_type": "code",
   "execution_count": null,
   "id": "f8c773da",
   "metadata": {},
   "outputs": [
    {
     "name": "stdout",
     "output_type": "stream",
     "text": [
      "(300, 300, 3)\n",
      "(17197, 300, 300, 3) uint8\n",
      "(17197, 300, 300, 3)\n",
      "Epoch 1/5\n"
     ]
    },
    {
     "name": "stderr",
     "output_type": "stream",
     "text": [
      "/Library/Frameworks/Python.framework/Versions/3.8/lib/python3.8/site-packages/keras/backend.py:4906: UserWarning: \"`sparse_categorical_crossentropy` received `from_logits=True`, but the `output` argument was produced by a sigmoid or softmax activation and thus does not represent logits. Was this intended?\"\n",
      "  warnings.warn(\n"
     ]
    }
   ],
   "source": [
    "epochs = 5\n",
    "print(pixel_data_train[2].shape)\n",
    "print(pixel_data_train.shape, pixel_data_train.dtype)\n",
    "X = tf.convert_to_tensor(pixel_data_train)\n",
    "print(X.shape)\n",
    "Y = tf.convert_to_tensor(race_data_train, dtype=tf.float32)\n",
    "history = model.fit(\n",
    "  x = X, y = Y,\n",
    "  validation_data = (pixel_data_val, race_data_val),\n",
    "  epochs=epochs,\n",
    "  batch_size = 256\n",
    ")"
   ]
  },
  {
   "cell_type": "code",
   "execution_count": 57,
   "id": "8fe84f46",
   "metadata": {},
   "outputs": [
    {
     "name": "stdout",
     "output_type": "stream",
     "text": [
      "2.6.1\n"
     ]
    }
   ],
   "source": [
    "print(tf.__version__)"
   ]
  },
  {
   "cell_type": "markdown",
   "id": "59ae582e",
   "metadata": {},
   "source": [
    "We are saving our model for future use:"
   ]
  },
  {
   "cell_type": "code",
   "execution_count": 58,
   "id": "08a27824",
   "metadata": {},
   "outputs": [],
   "source": [
    "model.save('baseline-cnn.h5')"
   ]
  },
  {
   "cell_type": "markdown",
   "id": "7cee70e8",
   "metadata": {},
   "source": [
    "As we can see from the graphs below, in the preliminary stages of training, our model followed a very traditional loss and accuracy curve, where it was descreasing and increasing respectively. However, this being said, the models still peformed suboptimally, peaking at a validation accuracy of roughly 60% after training for 5 epochs."
   ]
  },
  {
   "cell_type": "code",
   "execution_count": 59,
   "id": "57cfe06f",
   "metadata": {},
   "outputs": [
    {
     "data": {
      "image/png": "[encoded data removed]",
      "text/plain": [
       "<Figure size 432x288 with 1 Axes>"
      ]
     },
     "metadata": {
      "needs_background": "light"
     },
     "output_type": "display_data"
    },
    {
     "data": {
      "image/png": "[encoded data removed]",
      "text/plain": [
       "<Figure size 432x288 with 1 Axes>"
      ]
     },
     "metadata": {
      "needs_background": "light"
     },
     "output_type": "display_data"
    }
   ],
   "source": [
    "acc = history.history['accuracy']\n",
    "val_acc = history.history['val_accuracy']\n",
    "\n",
    "loss = history.history['loss']\n",
    "val_loss = history.history['val_loss']\n",
    "\n",
    "epochs_range = range(epochs)\n",
    "\n",
    "plt.plot(epochs_range, acc, label='Training Accuracy')\n",
    "plt.plot(epochs_range, val_acc, label='Validation Accuracy')\n",
    "plt.legend(loc='lower right')\n",
    "plt.title('Training and Validation Accuracy')\n",
    "plt.show()\n",
    "\n",
    "plt.plot(epochs_range, loss, label='Training Loss')\n",
    "plt.plot(epochs_range, val_loss, label='Validation Loss')\n",
    "plt.legend(loc='upper right')\n",
    "plt.title('Training and Validation Loss')\n",
    "plt.show()"
   ]
  },
  {
   "cell_type": "markdown",
   "id": "8fce26c6",
   "metadata": {},
   "source": [
    "## Reflection on Model Outcome\n",
    "\n",
    "To say I am surprised would be without a doubt an understatement. At the time it was introduced, VGG16 was a revolutionary new architecture that achieved never seen before results in the scope of image classification. In fact, in testing with large-scale image recognition, it received a 92.7% top-5 test accuracy in ImageNet when classifying for nearly 1000 classes. Thus, for any naive programmer who is wishing to create a model that can accurately classify based on race, facial expression, ethnicity, features, or any other similarly sensitive topics, choosing to create an architecture that emulates the general principles that VGG16 is based on is without a doubt a no brainer. However, as we have seen in the current study, this may not always be the best choice. This stems from the fact that when trained on the same exact datasets, and the same pre-processing steps, a model that was much less complex, had nearly 70 times fewer parameters, and that didn’t go to as great of a depth as the VGG16-based model, achieved a validation accuracy that was roughly 20% than that of the VGG16-based model. This opens up the door to several questions that can be asked. For example, this project, in specific, dealt with a very sensitive and prevalent topic, which is classifying people based on race. Such a practice can be used in police investigations to identify suspects or in cases as simple as opening your phone, but if well-known models such as VGG16 are not able to achieve a significant degree of accuracy in the task, it places doubt into the ethical practices of the model, as if individuals blindly use advanced and very uninterpretable models thinking that they can accurately take on similar classification tasks, they may place certain races and ethnicities at a disadvantage. Reflecting on how this outlook can be used to change my own approach in machine learning, in the future, I will definitely side more with testing my models more before saying I am confident with the model I present and always begin with more simple models before ramping up the complexity, as to minimize the amount of information that may be lost by adding unnecessary parameters"
   ]
  },
  {
   "cell_type": "code",
   "execution_count": 28,
   "id": "e7c98178",
   "metadata": {},
   "outputs": [],
   "source": [
    "with open('pixelset.pkl', 'wb') as f:\n",
    "    pickle.dump(face_img_pixels_set, f)"
   ]
  },
  {
   "cell_type": "code",
   "execution_count": 29,
   "id": "9a99d190",
   "metadata": {},
   "outputs": [],
   "source": [
    "with open('raceset.pkl', 'wb') as f:\n",
    "    pickle.dump(race_set, f)"
   ]
  }
 ],
 "metadata": {
  "kernelspec": {
   "display_name": "Python 3 (ipykernel)",
   "language": "python",
   "name": "python3"
  },
  "language_info": {
   "codemirror_mode": {
    "name": "ipython",
    "version": 3
   },
   "file_extension": ".py",
   "mimetype": "text/x-python",
   "name": "python",
   "nbconvert_exporter": "python",
   "pygments_lexer": "ipython3",
   "version": "3.8.3"
  }
 },
 "nbformat": 4,
 "nbformat_minor": 5
}
