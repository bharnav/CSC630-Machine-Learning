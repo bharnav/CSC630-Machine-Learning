{
 "cells": [
  {
   "cell_type": "code",
   "execution_count": 35,
   "id": "e2572526",
   "metadata": {},
   "outputs": [
    {
     "name": "stdout",
     "output_type": "stream",
     "text": [
      "Collecting pydot\n",
      "  Downloading pydot-1.4.2-py2.py3-none-any.whl (21 kB)\n",
      "Requirement already satisfied: pyparsing>=2.1.4 in /Library/Frameworks/Python.framework/Versions/3.8/lib/python3.8/site-packages (from pydot) (2.4.7)\n",
      "Installing collected packages: pydot\n",
      "Successfully installed pydot-1.4.2\n"
     ]
    }
   ],
   "source": [
    "!pip3 install pydot"
   ]
  },
  {
   "cell_type": "code",
   "execution_count": 2,
   "id": "7aca3414",
   "metadata": {},
   "outputs": [],
   "source": [
    "import matplotlib.pyplot as plt\n",
    "import numpy as np\n",
    "import os\n",
    "import PIL\n",
    "import tensorflow as tf\n",
    "from tensorflow import keras\n",
    "from tensorflow.keras import layers\n",
    "from tensorflow.keras.models import Sequential\n",
    "from tensorflow.keras.layers import BatchNormalization, LeakyReLU\n",
    "from tensorflow.keras.initializers import RandomNormal, Constant\n",
    "from tensorflow.keras.utils import plot_model\n",
    "import cv2\n",
    "import os\n",
    "import numpy as np\n",
    "import pandas as pd\n",
    "from sklearn.model_selection import train_test_split\n",
    "import pickle"
   ]
  },
  {
   "cell_type": "code",
   "execution_count": 3,
   "id": "e119213a",
   "metadata": {},
   "outputs": [],
   "source": [
    "img_height = 300\n",
    "img_width = 300\n",
    "batch_size = 32"
   ]
  },
  {
   "cell_type": "code",
   "execution_count": 4,
   "id": "c4b2eef7",
   "metadata": {},
   "outputs": [
    {
     "ename": "FileNotFoundError",
     "evalue": "[Errno 2] No such file or directory: './FaceRecognitionDataset'",
     "output_type": "error",
     "traceback": [
      "\u001b[0;31m---------------------------------------------------------------------------\u001b[0m",
      "\u001b[0;31mFileNotFoundError\u001b[0m                         Traceback (most recent call last)",
      "\u001b[0;32m/var/folders/6m/2wgdj6_s0rbd4wl3f0gy7kkh0000gq/T/ipykernel_5757/3715840391.py\u001b[0m in \u001b[0;36m<module>\u001b[0;34m\u001b[0m\n\u001b[1;32m      4\u001b[0m \u001b[0mface_img_pixels_set\u001b[0m \u001b[0;34m=\u001b[0m \u001b[0;34m[\u001b[0m\u001b[0;34m]\u001b[0m\u001b[0;34m\u001b[0m\u001b[0;34m\u001b[0m\u001b[0m\n\u001b[1;32m      5\u001b[0m \u001b[0mpath\u001b[0m \u001b[0;34m=\u001b[0m \u001b[0;34m\"./FaceRecognitionDataset\"\u001b[0m\u001b[0;34m\u001b[0m\u001b[0;34m\u001b[0m\u001b[0m\n\u001b[0;32m----> 6\u001b[0;31m \u001b[0mdir_list\u001b[0m \u001b[0;34m=\u001b[0m \u001b[0mos\u001b[0m\u001b[0;34m.\u001b[0m\u001b[0mlistdir\u001b[0m\u001b[0;34m(\u001b[0m\u001b[0mpath\u001b[0m\u001b[0;34m)\u001b[0m\u001b[0;34m\u001b[0m\u001b[0;34m\u001b[0m\u001b[0m\n\u001b[0m\u001b[1;32m      7\u001b[0m \u001b[0;34m\u001b[0m\u001b[0m\n\u001b[1;32m      8\u001b[0m \u001b[0;32mfor\u001b[0m \u001b[0mimg_dir\u001b[0m \u001b[0;32min\u001b[0m \u001b[0mdir_list\u001b[0m\u001b[0;34m:\u001b[0m\u001b[0;34m\u001b[0m\u001b[0;34m\u001b[0m\u001b[0m\n",
      "\u001b[0;31mFileNotFoundError\u001b[0m: [Errno 2] No such file or directory: './FaceRecognitionDataset'"
     ]
    }
   ],
   "source": [
    "age_set = []\n",
    "gender_set = []\n",
    "race_set = []\n",
    "face_img_pixels_set = []\n",
    "path = \"./FaceRecognitionDataset\"\n",
    "dir_list = os.listdir(path)\n",
    "\n",
    "for img_dir in dir_list:\n",
    "    try:\n",
    "        img_path = \"./FaceRecognitionDataset\"\n",
    "        img_path += \"/\" + img_dir\n",
    "        face_img_dir = os.listdir(img_path)\n",
    "        for face_img in face_img_dir:\n",
    "            if \".jpg\" in face_img:\n",
    "                face_img_split = face_img.split(\"_\")\n",
    "                age_set_str_int = face_img_split[0]\n",
    "                age_set_str_int = int(age_set_str_int)\n",
    "                age_set.append(age_set_str_int)\n",
    "                gender_set_str_int = face_img_split[1]\n",
    "                gender_set_str_int = int(gender_set_str_int)\n",
    "                gender_set.append(gender_set_str_int)\n",
    "                race_set_str_int = face_img_split[2]\n",
    "                race_set_str_int = int(race_set_str_int)\n",
    "                race_set.append(race_set_str_int)\n",
    "                face_img_path = img_path + \"/\" + face_img\n",
    "                face_img_pixels = cv2.imread(face_img_path)\n",
    "                dim = (img_height, img_width)\n",
    "                img_resize = cv2.resize(face_img_pixels, dim)\n",
    "                cv2.imwrite(face_img_path, img_resize) \n",
    "                face_img_pixels_resized = cv2.imread(face_img_path)\n",
    "                face_img_pixels_set.append(face_img_pixels_resized)     \n",
    "    except:\n",
    "        pass"
   ]
  },
  {
   "cell_type": "code",
   "execution_count": 1,
   "id": "a0be28e5",
   "metadata": {},
   "outputs": [
    {
     "ename": "NameError",
     "evalue": "name 'face_img_pixels_set' is not defined",
     "output_type": "error",
     "traceback": [
      "\u001b[0;31m---------------------------------------------------------------------------\u001b[0m",
      "\u001b[0;31mNameError\u001b[0m                                 Traceback (most recent call last)",
      "\u001b[0;32m/var/folders/6m/2wgdj6_s0rbd4wl3f0gy7kkh0000gq/T/ipykernel_5757/4132441218.py\u001b[0m in \u001b[0;36m<module>\u001b[0;34m\u001b[0m\n\u001b[0;32m----> 1\u001b[0;31m \u001b[0mlen\u001b[0m\u001b[0;34m(\u001b[0m\u001b[0mface_img_pixels_set\u001b[0m\u001b[0;34m)\u001b[0m\u001b[0;34m\u001b[0m\u001b[0;34m\u001b[0m\u001b[0m\n\u001b[0m\u001b[1;32m      2\u001b[0m \u001b[0mface_img_pixels_set\u001b[0m \u001b[0;34m=\u001b[0m \u001b[0mnp\u001b[0m\u001b[0;34m.\u001b[0m\u001b[0mstack\u001b[0m\u001b[0;34m(\u001b[0m\u001b[0mface_img_pixels_set\u001b[0m\u001b[0;34m)\u001b[0m\u001b[0;34m\u001b[0m\u001b[0;34m\u001b[0m\u001b[0m\n",
      "\u001b[0;31mNameError\u001b[0m: name 'face_img_pixels_set' is not defined"
     ]
    }
   ],
   "source": [
    "len(face_img_pixels_set)\n",
    "face_img_pixels_set = np.stack(face_img_pixels_set)"
   ]
  },
  {
   "cell_type": "code",
   "execution_count": 5,
   "id": "4383756e",
   "metadata": {},
   "outputs": [
    {
     "name": "stdout",
     "output_type": "stream",
     "text": [
      "(28663, 300, 300, 3)\n"
     ]
    }
   ],
   "source": [
    "print(face_img_pixels_set.shape)"
   ]
  },
  {
   "cell_type": "code",
   "execution_count": 6,
   "id": "a6cd0592",
   "metadata": {},
   "outputs": [],
   "source": [
    "race_set = np.array(race_set)"
   ]
  },
  {
   "cell_type": "code",
   "execution_count": 7,
   "id": "f5087405",
   "metadata": {},
   "outputs": [
    {
     "name": "stderr",
     "output_type": "stream",
     "text": [
      "2021-11-05 18:44:45.840595: I tensorflow/core/platform/cpu_feature_guard.cc:142] This TensorFlow binary is optimized with oneAPI Deep Neural Network Library (oneDNN) to use the following CPU instructions in performance-critical operations:  AVX2 FMA\n",
      "To enable them in other operations, rebuild TensorFlow with the appropriate compiler flags.\n"
     ]
    }
   ],
   "source": [
    "data_augmentation = keras.Sequential(\n",
    "  [\n",
    "    layers.RandomFlip(\"horizontal\",\n",
    "                      input_shape=(img_height,\n",
    "                                  img_width,\n",
    "                                  3)),\n",
    "    layers.RandomRotation(0.1),\n",
    "    layers.RandomZoom(0.1),\n",
    "  ]\n",
    ")"
   ]
  },
  {
   "cell_type": "code",
   "execution_count": 8,
   "id": "a2a38b59",
   "metadata": {},
   "outputs": [
    {
     "name": "stdout",
     "output_type": "stream",
     "text": [
      "\n"
     ]
    }
   ],
   "source": [
    "print()"
   ]
  },
  {
   "cell_type": "code",
   "execution_count": 9,
   "id": "1b9a7423",
   "metadata": {},
   "outputs": [],
   "source": [
    "pixel_data_train, pixel_data_test, race_data_train, race_data_test = train_test_split(face_img_pixels_set, race_set, \n",
    "                                                                                        test_size = 0.2, random_state=123)\n",
    "pixel_data_train, pixel_data_val, race_data_train, race_data_val = train_test_split(pixel_data_train, race_data_train,\n",
    "                                                                                     test_size = 0.25,  random_state=123)"
   ]
  },
  {
   "cell_type": "code",
   "execution_count": 10,
   "id": "1d69e744",
   "metadata": {},
   "outputs": [],
   "source": [
    "normalization_layer = layers.Rescaling(1./255)"
   ]
  },
  {
   "cell_type": "code",
   "execution_count": 45,
   "id": "af1fd2f3",
   "metadata": {},
   "outputs": [],
   "source": [
    "num_classes = 5\n",
    "\n",
    "model = Sequential([\n",
    "  data_augmentation,\n",
    "  layers.Rescaling(1./255),\n",
    "  layers.Dense(12, activation='relu'),\n",
    "  layers.Dropout(0.2),\n",
    "  layers.Dense(8, activation='relu'),\n",
    "  layers.Dropout(0.2),\n",
    "  layers.Dense(1, activation='sigmoid'),\n",
    "  layers.Conv2D(64, (3,3), padding='same', activation='relu'),\n",
    "  layers.BatchNormalization(),\n",
    "  layers.Conv2D(64, (3,3), padding='same', activation='relu'),\n",
    "  layers.MaxPooling2D(pool_size=(2, 2), strides=(2,2)),\n",
    "  layers.BatchNormalization(),\n",
    "  layers.Conv2D(128, (3,3), padding='same', activation='relu'),\n",
    "  layers.BatchNormalization(),\n",
    "  layers.Conv2D(128, (3,3), padding='same', activation='relu'),\n",
    "  layers.MaxPooling2D(pool_size=(2, 2), strides=(2,2)),\n",
    "  layers.BatchNormalization(),\n",
    "  layers.Conv2D(256, (3,3), padding='same', activation='relu'),\n",
    "  layers.BatchNormalization(),\n",
    "  layers.Conv2D(256, (3,3), padding='same', activation='relu'),\n",
    "  layers.BatchNormalization(),\n",
    "  layers.Conv2D(256, (3,3), padding='same', activation='relu'),\n",
    "  layers.BatchNormalization(),\n",
    "  layers.Conv2D(256, (3,3), padding='same', activation='relu'),\n",
    "  layers.MaxPooling2D(pool_size=(2, 2), strides=(2,2)),\n",
    "  layers.BatchNormalization(),\n",
    "  layers.Conv2D(512, (3,3), padding='same', activation='relu'),\n",
    "  layers.BatchNormalization(),\n",
    "  layers.Conv2D(512, (3,3), padding='same', activation='relu'),\n",
    "  layers.BatchNormalization(),\n",
    "  layers.Conv2D(512, (3,3), padding='same', activation='relu'),\n",
    "  layers.BatchNormalization(),\n",
    "  layers.Conv2D(512, (3,3), padding='same', activation='relu'),\n",
    "  layers.MaxPooling2D(pool_size=(2, 2), strides=(2,2)),\n",
    "  layers.BatchNormalization(),\n",
    "  layers.Conv2D(512, (3,3), padding='same', activation='relu'),\n",
    "  layers.BatchNormalization(),\n",
    "  layers.Conv2D(512, (3,3), padding='same', activation='relu'),\n",
    "  layers.BatchNormalization(),\n",
    "  layers.Conv2D(512, (3,3), padding='same', activation='relu'),\n",
    "  layers.BatchNormalization(),\n",
    "  layers.Conv2D(512, (3,3), padding='same', activation='relu'),\n",
    "  layers.MaxPooling2D(pool_size=(2, 2), strides=(2,2)),\n",
    "  layers.BatchNormalization(\n",
    "        momentum=0.95, \n",
    "        epsilon=0.005,\n",
    "        beta_initializer=RandomNormal(mean=0.0, stddev=0.05), \n",
    "        gamma_initializer=Constant(value=0.9)\n",
    "  ),\n",
    "  layers.Flatten(),\n",
    "  layers.Dense(4096, activation='relu'),\n",
    "  layers.Dropout(0.2),\n",
    "  layers.Dense(4096, activation='relu'),\n",
    "  layers.Dropout(0.2),\n",
    "  layers.Dense(num_classes, activation='softmax')\n",
    "])"
   ]
  },
  {
   "cell_type": "code",
   "execution_count": 47,
   "id": "34966e57",
   "metadata": {},
   "outputs": [],
   "source": [
    "learning_rate = 0.001\n",
    "model.compile(optimizer=tf.keras.optimizers.Adam(learning_rate),\n",
    "              loss=tf.keras.losses.SparseCategoricalCrossentropy(from_logits=True),\n",
    "              metrics=['accuracy', 'mse', 'mae', 'mape'])"
   ]
  },
  {
   "cell_type": "code",
   "execution_count": 48,
   "id": "fb948e21",
   "metadata": {},
   "outputs": [
    {
     "name": "stdout",
     "output_type": "stream",
     "text": [
      "Model: \"sequential_5\"\n",
      "_________________________________________________________________\n",
      "Layer (type)                 Output Shape              Param #   \n",
      "=================================================================\n",
      "sequential (Sequential)      (None, 300, 300, 3)       0         \n",
      "_________________________________________________________________\n",
      "rescaling_10 (Rescaling)     (None, 300, 300, 3)       0         \n",
      "_________________________________________________________________\n",
      "conv2d_29 (Conv2D)           (None, 300, 300, 16)      448       \n",
      "_________________________________________________________________\n",
      "max_pooling2d_29 (MaxPooling (None, 150, 150, 16)      0         \n",
      "_________________________________________________________________\n",
      "batch_normalization_30 (Batc (None, 150, 150, 16)      64        \n",
      "_________________________________________________________________\n",
      "leaky_re_lu (LeakyReLU)      (None, 150, 150, 16)      0         \n",
      "_________________________________________________________________\n",
      "conv2d_30 (Conv2D)           (None, 150, 150, 32)      4640      \n",
      "_________________________________________________________________\n",
      "max_pooling2d_30 (MaxPooling (None, 75, 75, 32)        0         \n",
      "_________________________________________________________________\n",
      "batch_normalization_31 (Batc (None, 75, 75, 32)        128       \n",
      "_________________________________________________________________\n",
      "leaky_re_lu_1 (LeakyReLU)    (None, 75, 75, 32)        0         \n",
      "_________________________________________________________________\n",
      "conv2d_31 (Conv2D)           (None, 75, 75, 64)        18496     \n",
      "_________________________________________________________________\n",
      "max_pooling2d_31 (MaxPooling (None, 37, 37, 64)        0         \n",
      "_________________________________________________________________\n",
      "batch_normalization_32 (Batc (None, 37, 37, 64)        256       \n",
      "_________________________________________________________________\n",
      "leaky_re_lu_2 (LeakyReLU)    (None, 37, 37, 64)        0         \n",
      "_________________________________________________________________\n",
      "conv2d_32 (Conv2D)           (None, 35, 35, 128)       73856     \n",
      "_________________________________________________________________\n",
      "max_pooling2d_32 (MaxPooling (None, 17, 17, 128)       0         \n",
      "_________________________________________________________________\n",
      "batch_normalization_33 (Batc (None, 17, 17, 128)       512       \n",
      "_________________________________________________________________\n",
      "leaky_re_lu_3 (LeakyReLU)    (None, 17, 17, 128)       0         \n",
      "_________________________________________________________________\n",
      "conv2d_33 (Conv2D)           (None, 15, 15, 256)       295168    \n",
      "_________________________________________________________________\n",
      "max_pooling2d_33 (MaxPooling (None, 7, 7, 256)         0         \n",
      "_________________________________________________________________\n",
      "batch_normalization_34 (Batc (None, 7, 7, 256)         1024      \n",
      "_________________________________________________________________\n",
      "leaky_re_lu_4 (LeakyReLU)    (None, 7, 7, 256)         0         \n",
      "_________________________________________________________________\n",
      "dropout_9 (Dropout)          (None, 7, 7, 256)         0         \n",
      "_________________________________________________________________\n",
      "flatten_9 (Flatten)          (None, 12544)             0         \n",
      "_________________________________________________________________\n",
      "dense_13 (Dense)             (None, 128)               1605760   \n",
      "_________________________________________________________________\n",
      "batch_normalization_35 (Batc (None, 128)               512       \n",
      "_________________________________________________________________\n",
      "dense_14 (Dense)             (None, 5)                 645       \n",
      "=================================================================\n",
      "Total params: 2,001,509\n",
      "Trainable params: 2,000,261\n",
      "Non-trainable params: 1,248\n",
      "_________________________________________________________________\n"
     ]
    }
   ],
   "source": [
    "model.summary()"
   ]
  },
  {
   "cell_type": "code",
   "execution_count": 49,
   "id": "cf68f5b2",
   "metadata": {},
   "outputs": [
    {
     "name": "stdout",
     "output_type": "stream",
     "text": [
      "('You must install pydot (`pip install pydot`) and install graphviz (see instructions at https://graphviz.gitlab.io/download/) ', 'for plot_model/model_to_dot to work.')\n"
     ]
    }
   ],
   "source": [
    "plot_model(model)"
   ]
  },
  {
   "cell_type": "code",
   "execution_count": 50,
   "id": "b58fd80d",
   "metadata": {},
   "outputs": [
    {
     "name": "stdout",
     "output_type": "stream",
     "text": [
      "(300, 300, 3)\n",
      "(17197, 300, 300, 3) uint8\n",
      "(17197, 300, 300, 3)\n",
      "Epoch 1/5\n",
      "538/538 [==============================] - 1010s 2s/step - loss: 1.4179 - accuracy: 0.4304 - mse: 4.0510 - mae: 1.5365 - mape: 218767888.0000 - val_loss: 1.4067 - val_accuracy: 0.4551 - val_mse: 4.1470 - val_mae: 1.5689 - val_mape: 235126320.0000\n",
      "Epoch 2/5\n",
      "538/538 [==============================] - 2528s 5s/step - loss: 1.3950 - accuracy: 0.4336 - mse: 4.1169 - mae: 1.5560 - mape: 235759328.0000 - val_loss: 1.3859 - val_accuracy: 0.4474 - val_mse: 4.3612 - val_mae: 1.6152 - val_mape: 261610448.0000\n",
      "Epoch 3/5\n",
      "538/538 [==============================] - 955s 2s/step - loss: 1.3861 - accuracy: 0.4371 - mse: 4.1460 - mae: 1.5665 - mape: 247678992.0000 - val_loss: 1.3990 - val_accuracy: 0.4336 - val_mse: 4.1789 - val_mae: 1.5798 - val_mape: 252740288.0000\n",
      "Epoch 4/5\n",
      "538/538 [==============================] - 1004s 2s/step - loss: 1.3834 - accuracy: 0.4325 - mse: 4.1610 - mae: 1.5743 - mape: 257029872.0000 - val_loss: 1.3929 - val_accuracy: 0.4345 - val_mse: 4.1941 - val_mae: 1.5790 - val_mape: 241574816.0000\n",
      "Epoch 5/5\n",
      "538/538 [==============================] - 1019s 2s/step - loss: 1.3747 - accuracy: 0.4359 - mse: 4.1820 - mae: 1.5791 - mape: 259467504.0000 - val_loss: 1.3910 - val_accuracy: 0.4469 - val_mse: 4.4562 - val_mae: 1.6457 - val_mape: 283833184.0000\n"
     ]
    }
   ],
   "source": [
    "epochs = 5\n",
    "print(pixel_data_train[2].shape)\n",
    "print(pixel_data_train.shape, pixel_data_train.dtype)\n",
    "X = tf.convert_to_tensor(pixel_data_train)\n",
    "print(X.shape)\n",
    "Y = tf.convert_to_tensor(race_data_train, dtype=tf.float32)\n",
    "history = model.fit(\n",
    "  x = X, y = Y,\n",
    "  validation_data = (pixel_data_val, race_data_val),\n",
    "  epochs=epochs\n",
    ")"
   ]
  },
  {
   "cell_type": "code",
   "execution_count": 15,
   "id": "ae78b284",
   "metadata": {},
   "outputs": [
    {
     "name": "stdout",
     "output_type": "stream",
     "text": [
      "2.6.1\n"
     ]
    }
   ],
   "source": [
    "print(tf.__version__)"
   ]
  },
  {
   "cell_type": "code",
   "execution_count": 16,
   "id": "b10c35d3",
   "metadata": {},
   "outputs": [],
   "source": [
    "model.save('baseline-cnn.h5')"
   ]
  },
  {
   "cell_type": "code",
   "execution_count": 51,
   "id": "148a9a4b",
   "metadata": {},
   "outputs": [
    {
     "data": {
      "image/png": "[encoded data removed]",
      "text/plain": [
       "<Figure size 432x288 with 1 Axes>"
      ]
     },
     "metadata": {
      "needs_background": "light"
     },
     "output_type": "display_data"
    },
    {
     "data": {
      "image/png": "[encoded data removed]",
      "text/plain": [
       "<Figure size 432x288 with 1 Axes>"
      ]
     },
     "metadata": {
      "needs_background": "light"
     },
     "output_type": "display_data"
    }
   ],
   "source": [
    "acc = history.history['accuracy']\n",
    "val_acc = history.history['val_accuracy']\n",
    "\n",
    "loss = history.history['loss']\n",
    "val_loss = history.history['val_loss']\n",
    "\n",
    "epochs_range = range(epochs)\n",
    "\n",
    "plt.plot(epochs_range, acc, label='Training Accuracy')\n",
    "plt.plot(epochs_range, val_acc, label='Validation Accuracy')\n",
    "plt.legend(loc='lower right')\n",
    "plt.title('Training and Validation Accuracy')\n",
    "plt.show()\n",
    "\n",
    "plt.plot(epochs_range, loss, label='Training Loss')\n",
    "plt.plot(epochs_range, val_loss, label='Validation Loss')\n",
    "plt.legend(loc='upper right')\n",
    "plt.title('Training and Validation Loss')\n",
    "plt.show()"
   ]
  },
  {
   "cell_type": "code",
   "execution_count": 28,
   "id": "5bd7709e",
   "metadata": {},
   "outputs": [],
   "source": [
    "with open('pixelset.pkl', 'wb') as f:\n",
    "    pickle.dump(face_img_pixels_set, f)"
   ]
  },
  {
   "cell_type": "code",
   "execution_count": 29,
   "id": "d1898c05",
   "metadata": {},
   "outputs": [],
   "source": [
    "with open('raceset.pkl', 'wb') as f:\n",
    "    pickle.dump(race_set, f)"
   ]
  }
 ],
 "metadata": {
  "kernelspec": {
   "display_name": "Python 3 (ipykernel)",
   "language": "python",
   "name": "python3"
  },
  "language_info": {
   "codemirror_mode": {
    "name": "ipython",
    "version": 3
   },
   "file_extension": ".py",
   "mimetype": "text/x-python",
   "name": "python",
   "nbconvert_exporter": "python",
   "pygments_lexer": "ipython3",
   "version": "3.8.3"
  }
 },
 "nbformat": 4,
 "nbformat_minor": 5
}
