{
 "cells": [
  {
   "cell_type": "code",
   "execution_count": 1,
   "id": "7aca3414",
   "metadata": {},
   "outputs": [],
   "source": [
    "import matplotlib.pyplot as plt\n",
    "import numpy as np\n",
    "import os\n",
    "import PIL\n",
    "import tensorflow as tf\n",
    "from tensorflow import keras\n",
    "from tensorflow.keras import layers\n",
    "from tensorflow.keras.models import Sequential\n",
    "import cv2\n",
    "import os\n",
    "import numpy as np\n",
    "import pandas as pd\n",
    "from sklearn.model_selection import train_test_split"
   ]
  },
  {
   "cell_type": "code",
   "execution_count": 2,
   "id": "7c8f6da5",
   "metadata": {},
   "outputs": [],
   "source": [
    "img_height = 300\n",
    "img_width = 300\n",
    "batch_size = 32"
   ]
  },
  {
   "cell_type": "code",
   "execution_count": 3,
   "id": "c4b2eef7",
   "metadata": {},
   "outputs": [],
   "source": [
    "age_set = []\n",
    "gender_set = []\n",
    "race_set = []\n",
    "face_img_pixels_set = []\n",
    "path = \"./FaceRecognitionDataset\"\n",
    "dir_list = os.listdir(path)\n",
    "\n",
    "for img_dir in dir_list:\n",
    "    try:\n",
    "        img_path = \"./FaceRecognitionDataset\"\n",
    "        img_path += \"/\" + img_dir\n",
    "        face_img_dir = os.listdir(img_path)\n",
    "        for face_img in face_img_dir:\n",
    "            if \".jpg\" in face_img:\n",
    "                face_img_split = face_img.split(\"_\")\n",
    "                age_set_str_int = face_img_split[0]\n",
    "                age_set_str_int = int(age_set_str_int)\n",
    "                age_set.append(age_set_str_int)\n",
    "                gender_set_str_int = face_img_split[1]\n",
    "                gender_set_str_int = int(gender_set_str_int)\n",
    "                gender_set.append(gender_set_str_int)\n",
    "                race_set_str_int = face_img_split[2]\n",
    "                race_set_str_int = int(race_set_str_int)\n",
    "                race_set.append(race_set_str_int)\n",
    "                face_img_path = img_path + \"/\" + face_img\n",
    "                face_img_pixels = cv2.imread(face_img_path)\n",
    "                dim = (img_height, img_width)\n",
    "                img_resize = cv2.resize(face_img_pixels, dim)\n",
    "                cv2.imwrite(face_img_path, img_resize) \n",
    "                face_img_pixels_resized = cv2.imread(face_img_path)\n",
    "                face_img_pixels_set.append(face_img_pixels_resized)     \n",
    "    except:\n",
    "        pass"
   ]
  },
  {
   "cell_type": "code",
   "execution_count": 4,
   "id": "d07838ac",
   "metadata": {},
   "outputs": [],
   "source": [
    "len(face_img_pixels_set)\n",
    "face_img_pixels_set = np.stack(face_img_pixels_set)"
   ]
  },
  {
   "cell_type": "code",
   "execution_count": 5,
   "id": "a8e1781c",
   "metadata": {},
   "outputs": [
    {
     "name": "stdout",
     "output_type": "stream",
     "text": [
      "(28663, 300, 300, 3)\n"
     ]
    }
   ],
   "source": [
    "print(face_img_pixels_set.shape)"
   ]
  },
  {
   "cell_type": "code",
   "execution_count": 6,
   "id": "6efedae0",
   "metadata": {},
   "outputs": [],
   "source": [
    "race_set = np.array(race_set)"
   ]
  },
  {
   "cell_type": "code",
   "execution_count": 7,
   "id": "60d11190",
   "metadata": {},
   "outputs": [
    {
     "name": "stderr",
     "output_type": "stream",
     "text": [
      "2021-11-05 18:44:45.840595: I tensorflow/core/platform/cpu_feature_guard.cc:142] This TensorFlow binary is optimized with oneAPI Deep Neural Network Library (oneDNN) to use the following CPU instructions in performance-critical operations:  AVX2 FMA\n",
      "To enable them in other operations, rebuild TensorFlow with the appropriate compiler flags.\n"
     ]
    }
   ],
   "source": [
    "data_augmentation = keras.Sequential(\n",
    "  [\n",
    "    layers.RandomFlip(\"horizontal\",\n",
    "                      input_shape=(img_height,\n",
    "                                  img_width,\n",
    "                                  3)),\n",
    "    layers.RandomRotation(0.1),\n",
    "    layers.RandomZoom(0.1),\n",
    "  ]\n",
    ")"
   ]
  },
  {
   "cell_type": "code",
   "execution_count": 8,
   "id": "358ef0e6",
   "metadata": {},
   "outputs": [
    {
     "name": "stdout",
     "output_type": "stream",
     "text": [
      "\n"
     ]
    }
   ],
   "source": [
    "print()"
   ]
  },
  {
   "cell_type": "code",
   "execution_count": 9,
   "id": "3c6054f1",
   "metadata": {},
   "outputs": [],
   "source": [
    "pixel_data_train, pixel_data_test, race_data_train, race_data_test = train_test_split(face_img_pixels_set, race_set, \n",
    "                                                                                        test_size = 0.2, random_state=123)\n",
    "pixel_data_train, pixel_data_val, race_data_train, race_data_val = train_test_split(pixel_data_train, race_data_train,\n",
    "                                                                                     test_size = 0.25,  random_state=123)"
   ]
  },
  {
   "cell_type": "code",
   "execution_count": 10,
   "id": "e058a6c2",
   "metadata": {},
   "outputs": [],
   "source": [
    "normalization_layer = layers.Rescaling(1./255)"
   ]
  },
  {
   "cell_type": "code",
   "execution_count": 11,
   "id": "d164ed14",
   "metadata": {},
   "outputs": [],
   "source": [
    "num_classes = 5\n",
    "\n",
    "model = Sequential([\n",
    "  data_augmentation,\n",
    "  layers.Rescaling(1./255),\n",
    "  layers.Conv2D(16, 3, padding='same', activation='relu'),\n",
    "  layers.MaxPooling2D(),\n",
    "  layers.Conv2D(32, 3, padding='same', activation='relu'),\n",
    "  layers.MaxPooling2D(),\n",
    "  layers.Conv2D(64, 3, padding='same', activation='relu'),\n",
    "  layers.MaxPooling2D(),\n",
    "  layers.Dropout(0.2),\n",
    "  layers.Flatten(),\n",
    "  layers.Dense(128, activation='relu'),\n",
    "  layers.Dense(num_classes)\n",
    "])"
   ]
  },
  {
   "cell_type": "code",
   "execution_count": 12,
   "id": "657e39c0",
   "metadata": {},
   "outputs": [],
   "source": [
    "model.compile(optimizer='adam',\n",
    "              loss=tf.keras.losses.SparseCategoricalCrossentropy(from_logits=True),\n",
    "              metrics=['accuracy'])"
   ]
  },
  {
   "cell_type": "code",
   "execution_count": 13,
   "id": "a6941756",
   "metadata": {},
   "outputs": [
    {
     "name": "stdout",
     "output_type": "stream",
     "text": [
      "Model: \"sequential_1\"\n",
      "_________________________________________________________________\n",
      "Layer (type)                 Output Shape              Param #   \n",
      "=================================================================\n",
      "sequential (Sequential)      (None, 300, 300, 3)       0         \n",
      "_________________________________________________________________\n",
      "rescaling_1 (Rescaling)      (None, 300, 300, 3)       0         \n",
      "_________________________________________________________________\n",
      "conv2d (Conv2D)              (None, 300, 300, 16)      448       \n",
      "_________________________________________________________________\n",
      "max_pooling2d (MaxPooling2D) (None, 150, 150, 16)      0         \n",
      "_________________________________________________________________\n",
      "conv2d_1 (Conv2D)            (None, 150, 150, 32)      4640      \n",
      "_________________________________________________________________\n",
      "max_pooling2d_1 (MaxPooling2 (None, 75, 75, 32)        0         \n",
      "_________________________________________________________________\n",
      "conv2d_2 (Conv2D)            (None, 75, 75, 64)        18496     \n",
      "_________________________________________________________________\n",
      "max_pooling2d_2 (MaxPooling2 (None, 37, 37, 64)        0         \n",
      "_________________________________________________________________\n",
      "dropout (Dropout)            (None, 37, 37, 64)        0         \n",
      "_________________________________________________________________\n",
      "flatten (Flatten)            (None, 87616)             0         \n",
      "_________________________________________________________________\n",
      "dense (Dense)                (None, 128)               11214976  \n",
      "_________________________________________________________________\n",
      "dense_1 (Dense)              (None, 5)                 645       \n",
      "=================================================================\n",
      "Total params: 11,239,205\n",
      "Trainable params: 11,239,205\n",
      "Non-trainable params: 0\n",
      "_________________________________________________________________\n"
     ]
    }
   ],
   "source": [
    "model.summary()"
   ]
  },
  {
   "cell_type": "code",
   "execution_count": null,
   "id": "7cbe2156",
   "metadata": {},
   "outputs": [
    {
     "name": "stdout",
     "output_type": "stream",
     "text": [
      "(300, 300, 3)\n",
      "(17197, 300, 300, 3) uint8\n",
      "(17197, 300, 300, 3)\n"
     ]
    },
    {
     "name": "stderr",
     "output_type": "stream",
     "text": [
      "2021-11-05 18:49:06.231758: I tensorflow/compiler/mlir/mlir_graph_optimization_pass.cc:185] None of the MLIR Optimization Passes are enabled (registered 2)\n"
     ]
    },
    {
     "name": "stdout",
     "output_type": "stream",
     "text": [
      "Epoch 1/30\n",
      "538/538 [==============================] - 2249s 4s/step - loss: 1.3975 - accuracy: 0.4585 - val_loss: 1.3100 - val_accuracy: 0.4697\n",
      "Epoch 2/30\n",
      "538/538 [==============================] - 779s 1s/step - loss: 1.3024 - accuracy: 0.4768 - val_loss: 1.2597 - val_accuracy: 0.4968\n",
      "Epoch 3/30\n",
      "448/538 [=======================>......] - ETA: 1:59 - loss: 1.2696 - accuracy: 0.4911"
     ]
    }
   ],
   "source": [
    "epochs = 30\n",
    "print(pixel_data_train[2].shape)\n",
    "print(pixel_data_train.shape, pixel_data_train.dtype)\n",
    "X = tf.convert_to_tensor(pixel_data_train)\n",
    "print(X.shape)\n",
    "Y = tf.convert_to_tensor(race_data_train, dtype=tf.float32)\n",
    "history = model.fit(\n",
    "  x = X, y = Y,\n",
    "  validation_data = (pixel_data_val, race_data_val),\n",
    "  epochs=epochs\n",
    ")"
   ]
  },
  {
   "cell_type": "code",
   "execution_count": null,
   "id": "1728ebae",
   "metadata": {},
   "outputs": [],
   "source": [
    "print(tf.__version__)"
   ]
  },
  {
   "cell_type": "code",
   "execution_count": null,
   "id": "7061464b",
   "metadata": {},
   "outputs": [],
   "source": []
  }
 ],
 "metadata": {
  "kernelspec": {
   "display_name": "Python 3 (ipykernel)",
   "language": "python",
   "name": "python3"
  },
  "language_info": {
   "codemirror_mode": {
    "name": "ipython",
    "version": 3
   },
   "file_extension": ".py",
   "mimetype": "text/x-python",
   "name": "python",
   "nbconvert_exporter": "python",
   "pygments_lexer": "ipython3",
   "version": "3.8.3"
  }
 },
 "nbformat": 4,
 "nbformat_minor": 5
}
