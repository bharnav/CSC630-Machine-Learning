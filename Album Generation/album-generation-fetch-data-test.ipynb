{
 "cells": [
  {
   "cell_type": "code",
   "execution_count": 8,
   "id": "3212952e",
   "metadata": {},
   "outputs": [],
   "source": [
    "GENIUS_API_TOKEN='F2SBCBsZrWPf0Isy6wKwnYyVDpZF9z67Zzd_UjHPNvEylkr0j6D0Qo0sQMeCGfW9'"
   ]
  },
  {
   "cell_type": "code",
   "execution_count": 21,
   "id": "77992326",
   "metadata": {},
   "outputs": [],
   "source": [
    "import requests\n",
    "from bs4 import BeautifulSoup\n",
    "import os\n",
    "import re\n",
    "import pickle\n",
    "import numpy as np"
   ]
  },
  {
   "cell_type": "code",
   "execution_count": 15,
   "id": "6575c311",
   "metadata": {},
   "outputs": [
    {
     "name": "stdout",
     "output_type": "stream",
     "text": [
      "Found 2 songs by Lana Del Rey\n"
     ]
    },
    {
     "data": {
      "text/plain": [
       "['https://genius.com/Lana-del-rey-young-and-beautiful-lyrics',\n",
       " 'https://genius.com/Lana-del-rey-summertime-sadness-lyrics']"
      ]
     },
     "execution_count": 15,
     "metadata": {},
     "output_type": "execute_result"
    }
   ],
   "source": [
    "# Get artist object from Genius API\n",
    "def request_artist_info(artist_name, page):\n",
    "    base_url = 'https://api.genius.com'\n",
    "    headers = {'Authorization': 'Bearer ' + GENIUS_API_TOKEN}\n",
    "    search_url = base_url + '/search?per_page=10&page=' + str(page)\n",
    "    data = {'q': artist_name}\n",
    "    response = requests.get(search_url, data=data, headers=headers)\n",
    "    return response\n",
    "# Get Genius.com song url's from artist object\n",
    "def request_song_url(artist_name, song_cap):\n",
    "    page = 1\n",
    "    songs = []\n",
    "    \n",
    "    while True:\n",
    "        response = request_artist_info(artist_name, page)\n",
    "        json = response.json()\n",
    "        # Collect up to song_cap song objects from artist\n",
    "        song_info = []\n",
    "        for hit in json['response']['hits']:\n",
    "            if artist_name.lower() in hit['result']['primary_artist']['name'].lower():\n",
    "                song_info.append(hit)\n",
    "    \n",
    "        # Collect song URL's from song objects\n",
    "        for song in song_info:\n",
    "            if (len(songs) < song_cap):\n",
    "                url = song['result']['url']\n",
    "                songs.append(url)\n",
    "            \n",
    "        if (len(songs) == song_cap):\n",
    "            break\n",
    "        else:\n",
    "            page += 1\n",
    "        \n",
    "    print('Found {} songs by {}'.format(len(songs), artist_name))\n",
    "    return songs\n",
    "    \n",
    "# DEMO\n",
    "request_song_url('Lana Del Rey', 2)"
   ]
  },
  {
   "cell_type": "code",
   "execution_count": 11,
   "id": "9457a14e",
   "metadata": {},
   "outputs": [
    {
     "name": "stdout",
     "output_type": "stream",
     "text": [
      "[Verse 1]\n",
      "I've seen the world, done it all\n",
      "Had my cake now\n",
      "Diamonds, brilliant,\n",
      "and Bel Air now\n",
      "Hot summer nights, mid-July\n",
      "When you and I were forever wild\n",
      "The crazy days, city lights\n",
      "The way you'd play with me like a child\n",
      "[Chorus]\n",
      "Will you still love me when I'm no longer young and beautiful?\n",
      "Will you still love me when I got nothing but my aching soul?\n",
      "I know you will, I know you will, I know that you will\n",
      "Will you still love me when I'm no longer beautiful?\n",
      "[Verse 2]\n",
      "I've seen the world, lit it up as my stage now\n",
      "Channeling angels in the new age now\n",
      "Hot summer days\n",
      ", rock and roll\n",
      "The way you'd play for me at your show\n",
      "And all the ways I got to know\n",
      "Your pretty face and electric soul\n",
      "[Chorus]\n",
      "Will you still love me when I'm no longer young and beautiful?\n",
      "Will you still love me when I got nothing but my aching soul?\n",
      "I know you will, I know you will, I know that you will\n",
      "Will you still love me when I'm no longer beautiful?\n",
      "[Bridge]\n",
      "Dear Lord, when I get to heaven\n",
      "Please, let me bring my man\n",
      "When he comes, tell me that You'll let him in\n",
      "Father, tell me if You can\n",
      "All that grace, all that body\n",
      "All that face makes me wanna party\n",
      "He's my sun, he makes me shine like diamonds\n",
      "[Chorus]\n",
      "Will you still love me when I'm no longer young and beautiful?\n",
      "Will you still love me when I got nothin' but my aching soul?\n",
      "I know you will, I know you will, I know that you will\n",
      "Will you still love me when I'm no longer beautiful?\n",
      "[Outro]\n",
      "Will you still love me when I'm no longer beautiful?\n",
      "Will you still love me when I'm not young and beautiful?\n",
      "Dear Lord, when I get to heaven\n",
      "Please, let me bring my man\n",
      "When he comes, tell me that You'll let him in\n",
      "Father, tell me if You can\n",
      "All that grace, all that body\n",
      "All that face makes me wanna party\n",
      "He's my sun, he makes me shine like diamonds\n",
      "Will you still love me when I'm no longer young and beautiful?\n",
      "Will you still love me when I got nothin' but my aching soul?\n",
      "I know you will, I know you will, I know that you will\n",
      "Will you still love me when I'm no longer beautiful?\n",
      "Will you still love me when I'm no longer beautiful?\n",
      "Will you still love me when I'm not young and beautiful?\n"
     ]
    }
   ],
   "source": [
    "# Scrape lyrics from a Genius.com song URL\n",
    "def scrape_song_lyrics(url):\n",
    "    page = requests.get(url)\n",
    "    html = BeautifulSoup(page.text, 'html.parser')\n",
    "    # lyrics = html.find('div', {'class': \"lyrics\"}).get_text()\n",
    "    for tag in html.select('div[class^=\"Lyrics__Container\"], .song_body-lyrics p'):\n",
    "        lyrics = tag.get_text(strip=True, separator='\\n')\n",
    "        if lyrics:\n",
    "            print(lyrics)\n",
    "    #remove identifiers like chorus, verse, etc\n",
    "    lyrics = re.sub(r'[\\(\\[].*?[\\)\\]]', '', lyrics)\n",
    "    #remove empty lines\n",
    "    lyrics = os.linesep.join([s for s in lyrics.splitlines() if s])         \n",
    "    return lyrics\n",
    "# DEMO\n",
    "print(scrape_song_lyrics('https://genius.com/Lana-del-rey-young-and-beautiful-lyrics'))"
   ]
  },
  {
   "cell_type": "code",
   "execution_count": 57,
   "id": "5103bd89",
   "metadata": {},
   "outputs": [],
   "source": [
    "lyrs = []\n",
    "def write_lyrics_to_file(artist_name, song_count):\n",
    "    try:\n",
    "        f = open('lyrics/' + artist_name.lower() + '.txt', 'wb')\n",
    "    except:\n",
    "        print('e')\n",
    "    urls = request_song_url(artist_name, song_count)\n",
    "    for url in urls:\n",
    "        lyrics = scrape_song_lyrics(url)\n",
    "        lyrs.append(lyrics.encode(\"utf8\"))\n",
    "        f.write(lyrics.encode(\"utf8\"))\n",
    "    f.close()\n",
    "    num_lines = sum(1 for line in open('lyrics/' + artist_name.lower() + '.txt', 'rb'))\n",
    "    print('Wrote {} lines to file from {} songs'.format(num_lines, song_count))"
   ]
  },
  {
   "cell_type": "code",
   "execution_count": 58,
   "id": "d0c23879",
   "metadata": {},
   "outputs": [
    {
     "name": "stdout",
     "output_type": "stream",
     "text": [
      "Found 1 songs by Kendrick Lamar\n",
      "[Intro]\n",
      "Nobody pray for me\n",
      "It been that day for me\n",
      "Way (Yeah, yeah)\n",
      "[Verse 1]\n",
      "Ayy, I remember syrup sandwiches and crime allowances\n",
      "Finesse a nigga with some counterfeits, but now I'm countin’ this\n",
      "Parmesan where my accountant lives, in fact I'm downin' this\n",
      "D’USSÉ with my boo bae tastes like Kool-Aid for the analysts\n",
      "Girl, I can buy your ass the world with my paystub\n",
      "Ooh, that pussy good, won't you sit it on my taste bloods?\n",
      "I get way too petty once you let me do the extras\n",
      "Pull up on your block, then break it down: we playin' Tetris\n",
      "AM to the PM, PM to the AM, funk\n",
      "Piss out your per diem, you just gotta hate 'em, funk\n",
      "If I quit your BM, I still ride Mercedes, funk\n",
      "If I quit this season, I still be the greatest, funk\n",
      "My left stroke just went viral\n",
      "Right stroke put lil' baby in a spiral\n",
      "Soprano C, we like to keep it on a high note\n",
      "It's levels to it, you and I know\n",
      "[Chorus]\n",
      "Bitch, be humble (Hol' up, bitch)\n",
      "Sit down (Hol' up, lil’, hol’ up, lil' bitch)\n",
      "Be humble (Hol’ up, bitch)\n",
      "Sit down (Hol' up, sit down, lil', sit down, lil' bitch)\n",
      "Be humble (Hol’ up, hol' up)\n",
      "Bitch, sit down (Hol' up, hol' up, lil' bitch)\n",
      "Be humble (Lil' bitch, hol' up, bitch)\n",
      "Sit down (Hol' up, hol' up, hol' up, hol' up)\n",
      "Be humble (Hol' up, hol' up)\n",
      "Sit down (Hol' up, hol' up, lil', hol' up, lil' bitch)\n",
      "Be humble (Hol' up, bitch)\n",
      "Sit down (Hol' up, sit down, lil', sit down, lil' bitch)\n",
      "Be humble (Hol' up, hol' up)\n",
      "Bitch, sit down (Hol' up, hol' up, lil' bitch)\n",
      "Be humble (Lil' bitch, hol' up, bitch)\n",
      "Sit down (Hol' up, hol' up, hol' up, hol' up)\n",
      "[Verse 2]\n",
      "Who that nigga thinkin' that he frontin' on Man-Man? (Man-Man)\n",
      "Get the fuck off my stage, I'm the Sandman (Sandman)\n",
      "Get the fuck off my dick, that ain't right\n",
      "I make a play fucking up your whole life\n",
      "I'm so fuckin' sick and tired of the Photoshop\n",
      "Show me somethin' natural like afro on Richard Pryor\n",
      "Show me somethin' natural like ass with some stretch marks\n",
      "Still will take you down right on your mama's couch in Polo socks\n",
      "Ayy, this shit way too crazy, ayy, you do not amaze me, ayy\n",
      "I blew cool from AC, ayy, Obama just paged me, ayy\n",
      "I don't fabricate it, ayy, most of y'all be fakin', ayy\n",
      "I stay modest 'bout it, ayy, she elaborate it, ayy\n",
      "This that Grey Poupon, that Evian, that TED Talk, ayy\n",
      "Watch my soul speak, you let the meds talk, ayy\n",
      "If I kill a nigga, it won't be the alcohol, ayy\n",
      "I'm the realest nigga after all\n",
      "[Chorus]\n",
      "Bitch, be humble (Hol' up, bitch)\n",
      "Sit down (Hol' up, lil', hol' up, lil' bitch)\n",
      "Be humble (Hol' up, bitch)\n",
      "Sit down (Hol' up, sit down, lil', sit down, lil' bitch)\n",
      "Be humble (Hol' up, hol' up)\n",
      "Bitch, sit down (Hol' up, hol' up, lil' bitch)\n",
      "Be humble (Lil' bitch, hol' up, bitch)\n",
      "Sit down (Hol' up, hol' up, hol' up, hol' up)\n",
      "Be humble (Hol' up, hol' up)\n",
      "Sit down (Hol' up, hol' up, lil', hol' up, lil' bitch)\n",
      "Be humble (Hol' up, bitch)\n",
      "Sit down (Hol' up, sit down, lil', sit down, lil' bitch)\n",
      "Be humble (Hol' up, hol' up)\n",
      "Bitch, sit down (Hol' up, hol' up, lil' bitch)\n",
      "Be humble (Lil' bitch, hol' up, bitch)\n",
      "Sit down (Hol' up, hol' up, hol' up, hol' up)\n",
      "Wrote 32 lines to file from 1 songs\n"
     ]
    }
   ],
   "source": [
    "write_lyrics_to_file('Kendrick Lamar', 1)"
   ]
  },
  {
   "cell_type": "code",
   "execution_count": 59,
   "id": "c0c56d6f",
   "metadata": {},
   "outputs": [
    {
     "data": {
      "text/plain": [
       "[b\"Who that nigga thinkin' that he frontin' on Man-Man? \\nGet the fuck off my stage, I'm the Sandman \\nGet the fuck off my dick, that ain't right\\nI make a play fucking up your whole life\\nI'm so fuckin' sick and tired of the Photoshop\\nShow me somethin' natural like afro on Richard Pryor\\nShow me somethin' natural like ass with some stretch marks\\nStill will take you down right on your mama's couch in Polo socks\\nAyy, this shit way too crazy, ayy, you do not amaze me, ayy\\nI blew cool from AC, ayy, Obama just paged me, ayy\\nI don't fabricate it, ayy, most of y'all be fakin', ayy\\nI stay modest 'bout it, ayy, she elaborate it, ayy\\nThis that Grey Poupon, that Evian, that TED Talk, ayy\\nWatch my soul speak, you let the meds talk, ayy\\nIf I kill a nigga, it won't be the alcohol, ayy\\nI'm the realest nigga after all\\nBitch, be humble \\nSit down \\nBe humble \\nSit down \\nBe humble \\nBitch, sit down \\nBe humble \\nSit down \\nBe humble \\nSit down \\nBe humble \\nSit down \\nBe humble \\nBitch, sit down \\nBe humble \\nSit down \"]"
      ]
     },
     "execution_count": 59,
     "metadata": {},
     "output_type": "execute_result"
    }
   ],
   "source": [
    "lyrs"
   ]
  },
  {
   "cell_type": "code",
   "execution_count": 60,
   "id": "a9457978",
   "metadata": {},
   "outputs": [],
   "source": [
    "infile = open('namelist-from-genius.pkl','rb')\n",
    "artist_list = pickle.load(infile)\n",
    "infile.close()"
   ]
  },
  {
   "cell_type": "code",
   "execution_count": 61,
   "id": "4a96673f",
   "metadata": {},
   "outputs": [
    {
     "data": {
      "text/plain": [
       "array(['A1 x J', 'A2', 'A2', ..., '9th Stree', '9th Wonde',\n",
       "       '9 to 5 Original Broadway Ca'], dtype='<U225')"
      ]
     },
     "execution_count": 61,
     "metadata": {},
     "output_type": "execute_result"
    }
   ],
   "source": [
    "artist_list_np = np.array(artist_list)\n",
    "artist_list_np"
   ]
  },
  {
   "cell_type": "code",
   "execution_count": null,
   "id": "a6ccf828",
   "metadata": {},
   "outputs": [
    {
     "name": "stdout",
     "output_type": "stream",
     "text": [
      "A1 x J\n"
     ]
    }
   ],
   "source": [
    "for name in artist_list_np:\n",
    "    print(name)\n",
    "    write_lyrics_to_file(str(name), 1)"
   ]
  },
  {
   "cell_type": "code",
   "execution_count": null,
   "id": "95f74f92",
   "metadata": {},
   "outputs": [],
   "source": []
  }
 ],
 "metadata": {
  "kernelspec": {
   "display_name": "Python 3 (ipykernel)",
   "language": "python",
   "name": "python3"
  },
  "language_info": {
   "codemirror_mode": {
    "name": "ipython",
    "version": 3
   },
   "file_extension": ".py",
   "mimetype": "text/x-python",
   "name": "python",
   "nbconvert_exporter": "python",
   "pygments_lexer": "ipython3",
   "version": "3.8.3"
  }
 },
 "nbformat": 4,
 "nbformat_minor": 5
}
