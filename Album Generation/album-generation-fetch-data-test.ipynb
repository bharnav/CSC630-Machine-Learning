{
 "cells": [
  {
   "cell_type": "code",
   "execution_count": 1,
   "id": "3212952e",
   "metadata": {},
   "outputs": [],
   "source": [
    "GENIUS_API_TOKEN='F2SBCBsZrWPf0Isy6wKwnYyVDpZF9z67Zzd_UjHPNvEylkr0j6D0Qo0sQMeCGfW9'"
   ]
  },
  {
   "cell_type": "code",
   "execution_count": 2,
   "id": "77992326",
   "metadata": {},
   "outputs": [],
   "source": [
    "import requests\n",
    "from bs4 import BeautifulSoup\n",
    "import os\n",
    "import re\n",
    "import pickle\n",
    "import numpy as np"
   ]
  },
  {
   "cell_type": "code",
   "execution_count": 3,
   "id": "6575c311",
   "metadata": {},
   "outputs": [
    {
     "name": "stdout",
     "output_type": "stream",
     "text": [
      "Found 2 songs by Lana Del Rey\n"
     ]
    },
    {
     "data": {
      "text/plain": [
       "['https://genius.com/Lana-del-rey-young-and-beautiful-lyrics',\n",
       " 'https://genius.com/Lana-del-rey-summertime-sadness-lyrics']"
      ]
     },
     "execution_count": 3,
     "metadata": {},
     "output_type": "execute_result"
    }
   ],
   "source": [
    "def request_artist_info(artist_name, page):\n",
    "    base_url = 'https://api.genius.com'\n",
    "    headers = {'Authorization': 'Bearer ' + GENIUS_API_TOKEN}\n",
    "    search_url = base_url + '/search?per_page=10&page=' + str(page)\n",
    "    data = {'q': artist_name}\n",
    "    response = requests.get(search_url, data=data, headers=headers)\n",
    "    return response\n",
    "def request_song_url(artist_name, song_cap):\n",
    "    page = 1\n",
    "    songs = []\n",
    "    \n",
    "    while True:\n",
    "        response = request_artist_info(artist_name, page)\n",
    "        json = response.json()\n",
    "        song_info = []\n",
    "        for hit in json['response']['hits']:\n",
    "            if artist_name.lower() in hit['result']['primary_artist']['name'].lower():\n",
    "                song_info.append(hit)\n",
    "        for song in song_info:\n",
    "            if (len(songs) < song_cap):\n",
    "                url = song['result']['url']\n",
    "                songs.append(url) \n",
    "        if (len(songs) == song_cap):\n",
    "            break\n",
    "        else:\n",
    "            page += 1\n",
    "    print('Found {} songs by {}'.format(len(songs), artist_name))\n",
    "    return songs\n",
    "    \n",
    "request_song_url('Lana Del Rey', 2)"
   ]
  },
  {
   "cell_type": "code",
   "execution_count": 4,
   "id": "9457a14e",
   "metadata": {},
   "outputs": [
    {
     "name": "stdout",
     "output_type": "stream",
     "text": [
      "[Verse 1]\n",
      "I've seen the world, done it all\n",
      "Had my cake now\n",
      "Diamonds, brilliant,\n",
      "and Bel Air now\n",
      "Hot summer nights, mid-July\n",
      "When you and I were forever wild\n",
      "The crazy days, city lights\n",
      "The way you'd play with me like a child\n",
      "[Chorus]\n",
      "Will you still love me when I'm no longer young and beautiful?\n",
      "Will you still love me when I got nothing but my aching soul?\n",
      "I know you will, I know you will, I know that you will\n",
      "Will you still love me when I'm no longer beautiful?\n",
      "[Verse 2]\n",
      "I've seen the world, lit it up as my stage now\n",
      "Channeling angels in the new age now\n",
      "Hot summer days\n",
      ", rock and roll\n",
      "The way you'd play for me at your show\n",
      "And all the ways I got to know\n",
      "Your pretty face and electric soul\n",
      "[Chorus]\n",
      "Will you still love me when I'm no longer young and beautiful?\n",
      "Will you still love me when I got nothing but my aching soul?\n",
      "I know you will, I know you will, I know that you will\n",
      "Will you still love me when I'm no longer beautiful?\n",
      "[Bridge]\n",
      "Dear Lord, when I get to heaven\n",
      "Please, let me bring my man\n",
      "When he comes, tell me that You'll let him in\n",
      "Father, tell me if You can\n",
      "All that grace, all that body\n",
      "All that face makes me wanna party\n",
      "He's my sun, he makes me shine like diamonds\n",
      "[Chorus]\n",
      "Will you still love me when I'm no longer young and beautiful?\n",
      "Will you still love me when I got nothin' but my aching soul?\n",
      "I know you will, I know you will, I know that you will\n",
      "Will you still love me when I'm no longer beautiful?\n",
      "[Outro]\n",
      "Will you still love me when I'm no longer beautiful?\n",
      "Will you still love me when I'm not young and beautiful?\n",
      "Dear Lord, when I get to heaven\n",
      "Please, let me bring my man\n",
      "When he comes, tell me that You'll let him in\n",
      "Father, tell me if You can\n",
      "All that grace, all that body\n",
      "All that face makes me wanna party\n",
      "He's my sun, he makes me shine like diamonds\n",
      "Will you still love me when I'm no longer young and beautiful?\n",
      "Will you still love me when I got nothin' but my aching soul?\n",
      "I know you will, I know you will, I know that you will\n",
      "Will you still love me when I'm no longer beautiful?\n",
      "Will you still love me when I'm no longer beautiful?\n",
      "Will you still love me when I'm not young and beautiful?\n"
     ]
    }
   ],
   "source": [
    "def scrape_song_lyrics(url):\n",
    "    page = requests.get(url)\n",
    "    html = BeautifulSoup(page.text, 'html.parser')\n",
    "    for tag in html.select('div[class^=\"Lyrics__Container\"], .song_body-lyrics p'):\n",
    "        lyrics = tag.get_text(strip=True, separator='\\n')\n",
    "        if lyrics:\n",
    "            print(lyrics)\n",
    "    lyrics = re.sub(r'[\\(\\[].*?[\\)\\]]', '', lyrics)\n",
    "    lyrics = os.linesep.join([s for s in lyrics.splitlines() if s])         \n",
    "    return lyrics\n",
    "print(scrape_song_lyrics('https://genius.com/Lana-del-rey-young-and-beautiful-lyrics'))"
   ]
  },
  {
   "cell_type": "code",
   "execution_count": 5,
   "id": "5103bd89",
   "metadata": {},
   "outputs": [],
   "source": [
    "lyrs = []\n",
    "def write_lyrics_to_file(artist_name, song_count):\n",
    "    try:\n",
    "        f = open('lyrics/' + artist_name.lower() + '.txt', 'wb')\n",
    "    except:\n",
    "        print('e')\n",
    "    urls = request_song_url(artist_name, song_count)\n",
    "    for url in urls:\n",
    "        lyrics = scrape_song_lyrics(url)\n",
    "        lyrs.append(lyrics.encode(\"utf8\"))\n",
    "        f.write(lyrics.encode(\"utf8\"))\n",
    "    f.close()\n",
    "    num_lines = sum(1 for line in open('lyrics/' + artist_name.lower() + '.txt', 'rb'))\n",
    "    print('Wrote {} lines to file from {} songs'.format(num_lines, song_count))"
   ]
  },
  {
   "cell_type": "code",
   "execution_count": 6,
   "id": "d0c23879",
   "metadata": {},
   "outputs": [
    {
     "name": "stdout",
     "output_type": "stream",
     "text": [
      "Found 1 songs by Kendrick Lamar\n",
      "[Produced by Hit-Boy]\n",
      "[Intro]\n",
      "Uh, Martin had a dream\n",
      "Martin had a dream\n",
      "Kendrick have a dream\n",
      "[Chorus]\n",
      "All my life I want money and power\n",
      "Respect my mind or die from lead shower\n",
      "I pray my dick get big as the Eiffel Tower\n",
      "So I can fuck the world for seventy-two hours\n",
      "[Verse 1]\n",
      "Goddamn I feel amazin', damn, I'm in the Matrix\n",
      "My mind is livin' on cloud nine and this 9 is never on vacation\n",
      "Start up that Maserati and – vroom-vroom! – I'm racin'\n",
      "Poppin' pills in the lobby and I pray they don't find her naked\n",
      "And I pray you niggas is hatin',\n",
      "shooters go after Judas\n",
      "Jesus Christ, if I live life on my knees ain't no need to do this\n",
      "Park it in front of Lueders, next to that Church's Chicken\n",
      "All you pussies is losers, all my niggas is winners, screamin'—\n",
      "[Chorus]\n",
      "All my life I want money and power\n",
      "Respect my mind or die from lead shower\n",
      "I pray my dick get big as the Eiffel Tower\n",
      "So I can fuck the world for seventy-two hours\n",
      "[Post-Chorus 1]\n",
      "Goddamn I got bitches, damn I got bitches\n",
      "Damn I got bitches: wifey, girlfriend and mistress\n",
      "All my life I want money and power\n",
      "Respect my mind or die from lead showers\n",
      "[Verse 2]\n",
      "I've got 25 lighters on my dresser, yessir\n",
      "Put fire to that ass, body cast on a stretcher\n",
      "And her body got that ass that a ruler couldn't measure\n",
      "And it make me cum fast, but I never get embarrassed\n",
      "And I recognize you have what I've been wantin' since that record\n",
      "That Adina Howard had pop it fast to impress her\n",
      "She rollin',\n",
      "I'm holdin' my scrotum and posin'\n",
      "This voice here is golden,\n",
      "so fuck y'all, I goes in, and—\n",
      "[Chorus]\n",
      "All my life I want money and power\n",
      "Respect my mind or die from lead shower\n",
      "I pray my dick get big as the Eiffel Tower\n",
      "So I can fuck the world for seventy-two hours\n",
      "[Post-Chorus 2]\n",
      "Goddamn I got bitches, damn I got bitches\n",
      "Damn I got bitches: wifey, girlfriend and mistress\n",
      "All my life I want money and power\n",
      "Respect my mind\n",
      "or, nigga, it's go time\n",
      "[Verse 3]\n",
      "I roll in dough with a good grind\n",
      "And I run at ho with a baton\n",
      "That's a relay race with a bouquet\n",
      "They say, \"K, you goin' marry mines.\"\n",
      "Beeotch! No way, beeotch! No way\n",
      "Beeotch! No way, beeotch! Okay\n",
      "I'm never livin' life confined\n",
      "As I feel you even if I'm blind\n",
      "I can tell you who, what, when, where\n",
      "How to sell your game right on time\n",
      "Beeotch! Go play, beeotch! Go play\n",
      "Beeotch! Go play, beeotch!\n",
      "I look like OJ\n",
      "Killin' everything from pussy to a mothafuckin' Hit-Boy beat\n",
      "She pussy poppin' and I got options like an audible, I be\n",
      "C-O-M-P-T-O-N, I win, then ball at your defeat\n",
      "C-O-M-P-T-O-N, my city, mobbin' in the street, yellin'—\n",
      "[Chorus]\n",
      "All my life I want money and power\n",
      "Respect my mind or die from lead shower\n",
      "I pray my dick get big as the Eiffel Tower\n",
      "So I can fuck the world for seventy-two hours\n",
      "[Post-Chorus 1]\n",
      "Goddamn I got bitches, damn I got bitches\n",
      "Damn I got bitches, wifey, girlfriend and mistress\n",
      "All my life I want money and power\n",
      "Respect my mind or die from lead showers\n",
      "[Outro]\n",
      "Let it run, Ali\n",
      "Martin had a dream\n",
      "Martin had a dream\n",
      "Kendrick have a dream\n",
      "Wrote 4 lines to file from 1 songs\n"
     ]
    }
   ],
   "source": [
    "write_lyrics_to_file('Kendrick Lamar', 1)"
   ]
  },
  {
   "cell_type": "code",
   "execution_count": 7,
   "id": "56cd7712",
   "metadata": {},
   "outputs": [
    {
     "data": {
      "text/plain": [
       "[b'Let it run, Ali\\nMartin had a dream\\nMartin had a dream\\nKendrick have a dream']"
      ]
     },
     "execution_count": 7,
     "metadata": {},
     "output_type": "execute_result"
    }
   ],
   "source": [
    "lyrs"
   ]
  },
  {
   "cell_type": "code",
   "execution_count": 8,
   "id": "8def5643",
   "metadata": {},
   "outputs": [],
   "source": [
    "infile = open('namelist-from-genius.pkl','rb')\n",
    "artist_list = pickle.load(infile)\n",
    "infile.close()"
   ]
  },
  {
   "cell_type": "code",
   "execution_count": 9,
   "id": "b8d03919",
   "metadata": {},
   "outputs": [
    {
     "data": {
      "text/plain": [
       "array(['A1 x J', 'A2', 'A2', ..., '9th Stree', '9th Wonde',\n",
       "       '9 to 5 Original Broadway Ca'], dtype='<U225')"
      ]
     },
     "execution_count": 9,
     "metadata": {},
     "output_type": "execute_result"
    }
   ],
   "source": [
    "artist_list_np = np.array(artist_list)\n",
    "artist_list_np"
   ]
  },
  {
   "cell_type": "code",
   "execution_count": 10,
   "id": "1b97e3d4",
   "metadata": {},
   "outputs": [],
   "source": [
    "for name in artist_list_np:\n",
    "    print(name)\n",
    "    write_lyrics_to_file(str(name), 1)"
   ]
  }
 ],
 "metadata": {
  "kernelspec": {
   "display_name": "Python 3 (ipykernel)",
   "language": "python",
   "name": "python3"
  },
  "language_info": {
   "codemirror_mode": {
    "name": "ipython",
    "version": 3
   },
   "file_extension": ".py",
   "mimetype": "text/x-python",
   "name": "python",
   "nbconvert_exporter": "python",
   "pygments_lexer": "ipython3",
   "version": "3.8.3"
  }
 },
 "nbformat": 4,
 "nbformat_minor": 5
}
