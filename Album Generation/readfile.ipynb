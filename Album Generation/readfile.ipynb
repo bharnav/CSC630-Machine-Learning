{
 "cells": [
  {
   "cell_type": "code",
   "execution_count": 6,
   "metadata": {},
   "outputs": [],
   "source": [
    "import pandas as pd\n",
    "import pickle\n",
    "df = pd.read_csv('10000-MTV-Music-Artists-page-1.csv')\n",
    "df1 = pd.read_csv('10000-MTV-Music-Artists-page-2.csv')\n",
    "df2 = pd.read_csv('10000-MTV-Music-Artists-page-3.csv')\n",
    "df3 = pd.read_csv('10000-MTV-Music-Artists-page-4.csv')"
   ]
  },
  {
   "cell_type": "code",
   "execution_count": 6,
   "metadata": {},
   "outputs": [],
   "source": [
    "names = df['name'].to_numpy().tolist()\n",
    "names.append(df1['name'].to_numpy().tolist())\n",
    "names.append(df2['name'].to_numpy().tolist())\n",
    "names.append(df3['name'].to_numpy().tolist())"
   ]
  },
  {
   "cell_type": "code",
   "execution_count": 7,
   "metadata": {},
   "outputs": [],
   "source": [
    "names = [name.lstrip().rstrip() for name in names if isinstance(name, str)]"
   ]
  },
  {
   "cell_type": "code",
   "execution_count": 8,
   "metadata": {},
   "outputs": [],
   "source": [
    "with open('namelist.pkl', 'wb') as f:\n",
    "    pickle.dump(names, f)"
   ]
  },
  {
   "cell_type": "code",
   "execution_count": 2,
   "metadata": {},
   "outputs": [],
   "source": [
    "with open('names.txt', 'r') as f:\n",
    "    lines = f.readlines()"
   ]
  },
  {
   "cell_type": "code",
   "execution_count": 4,
   "metadata": {},
   "outputs": [],
   "source": [
    "lines = [line[:-2] for line in lines]\n",
    "lines = [line for line in lines if line != '']"
   ]
  },
  {
   "cell_type": "code",
   "execution_count": 7,
   "metadata": {},
   "outputs": [],
   "source": [
    "with open('namelist-from-genius.pkl', 'wb') as f:\n",
    "    pickle.dump(lines, f)"
   ]
  },
  {
   "cell_type": "code",
   "execution_count": null,
   "metadata": {},
   "outputs": [],
   "source": []
  }
 ],
 "metadata": {
  "interpreter": {
   "hash": "8ea83725a0d7e757f9aba8ea7bbb3168a22f298da9d6ed8cf70bc5ab2342cc11"
  },
  "kernelspec": {
   "display_name": "Python 3 (ipykernel)",
   "language": "python",
   "name": "python3"
  },
  "language_info": {
   "codemirror_mode": {
    "name": "ipython",
    "version": 3
   },
   "file_extension": ".py",
   "mimetype": "text/x-python",
   "name": "python",
   "nbconvert_exporter": "python",
   "pygments_lexer": "ipython3",
   "version": "3.8.3"
  }
 },
 "nbformat": 4,
 "nbformat_minor": 2
}
